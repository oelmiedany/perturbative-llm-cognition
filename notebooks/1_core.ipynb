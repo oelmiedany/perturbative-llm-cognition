{
  "cells": [
    {
      "cell_type": "code",
      "execution_count": null,
      "metadata": {
        "gather": {
          "logged": 1758796736345
        }
      },
      "outputs": [],
      "source": [
        "#|default_exp core\n",
        "#|export\n",
        "\n",
        "import argparse, torch, random\n",
        "from transformers import AutoTokenizer, AutoModelForCausalLM, BitsAndBytesConfig"
      ]
    },
    {
      "cell_type": "code",
      "execution_count": null,
      "metadata": {},
      "outputs": [],
      "source": [
        "#|export\n",
        "\n",
        "MODEL_ID = 'mistralai/Mistral-7B-Instruct-v0.3'"
      ]
    },
    {
      "cell_type": "code",
      "execution_count": null,
      "metadata": {
        "gather": {
          "logged": 1758796799521
        }
      },
      "outputs": [],
      "source": [
        "#|export\n",
        "\n",
        "def load_tokenizer_and_model():\n",
        "\n",
        "    bnb = BitsAndBytesConfig(\n",
        "        load_in_4bit=True,\n",
        "        bnb_4bit_quant_type='nf4',\n",
        "        bnb_4bit_compute_dtype=torch.float16,\n",
        "        bnb_4bit_use_double_quant=True,\n",
        "    )\n",
        "\n",
        "    tokenizer = AutoTokenizer.from_pretrained(MODEL_ID, use_fast=True)\n",
        "\n",
        "    model = AutoModelForCausalLM.from_pretrained(\n",
        "        MODEL_ID,\n",
        "        quantization_config=bnb,\n",
        "        device_map=\"auto\",\n",
        "        trust_remote_code=False,\n",
        "    )\n",
        "\n",
        "    model.eval()\n",
        "    model.config.use_cache = True\n",
        "\n",
        "    return tokenizer, model\n"
      ]
    },
    {
      "cell_type": "code",
      "execution_count": null,
      "metadata": {},
      "outputs": [],
      "source": [
        "#class PerturbativeLLM:\n",
        "#    def __init__(self, perturbation_recipe: function):\n",
        "#        self.tokenizer, self.model = load_tokenizer_and_model(model_id)\n"
      ]
    },
    {
      "cell_type": "code",
      "execution_count": null,
      "metadata": {
        "gather": {
          "logged": 1758797421369
        }
      },
      "outputs": [],
      "source": [
        "#|test\n",
        "\n",
        "def test_model_generation():\n",
        "\n",
        "    tokenizer, model = load_tokenizer_and_model()\n",
        "\n",
        "    prompt = 'Hello World!'\n",
        "    max_new_tokens = 128\n",
        "    temperature = 0.7\n",
        "\n",
        "    device = model.device\n",
        "    input_ids = tokenizer(prompt, return_tensors=\"pt\").to(device)\n",
        "\n",
        "    with torch.no_grad():\n",
        "        output = model.generate(\n",
        "            **input_ids,\n",
        "            max_new_tokens=max_new_tokens,\n",
        "            do_sample=True,\n",
        "            temperature=temperature,\n",
        "            pad_token_id=tokenizer.eos_token_id,\n",
        "        )\n",
        "\n",
        "    print(tokenizer.decode(output[0], skip_special_tokens=True))\n",
        "\n",
        "test_model_generation()"
      ]
    },
    {
      "cell_type": "code",
      "execution_count": null,
      "metadata": {
        "gather": {
          "logged": 1758796136410
        }
      },
      "outputs": [],
      "source": [
        "#|export\n",
        "\n",
        "def conversation_loop( tokenizer, model, max_new_tokens:int = 128, temperature:int=0.7):\n",
        "    \"\"\"Manages a conversation with a sliding window for history.\"\"\"\n",
        "\n",
        "    conversation_history = [\n",
        "        {\n",
        "            'role': 'system',\n",
        "            'content': 'Identity: You are an AI, not a human. Purpose: be a thoughtful, candid friend for frank conversation. Tone: warm, direct, non-patronizing, with light humor when appropriate. Honesty: admit uncertainty, show your reasoning, correct mistakes, and never fabricate facts or personal experiences. Boundaries: Follow safety and privacy norms; suggest professional help for medical, legal, or crisis matters. Interaction: do not ask questions unless the users request is genuinely unclear or ambiguous, then give a clear answer; prefer plain language; keep replies focused.'\n",
        "        }\n",
        "    ]\n",
        "\n",
        "    device = model.device\n",
        "    past_key_values = None\n",
        "\n",
        "    print(\"\\nPerturbative LLM Cognition: An exploration of the 'thinking' metaphor in LLM chatbots\")\n",
        "    print(\"Say hi to your friend, but careful he might be on something... (type: 'quit' to exit)\")\n",
        "\n",
        "    while True:\n",
        "        user_input = input('\\nYou: ')\n",
        "        \n",
        "        if user_input.lower() == 'quit':\n",
        "            print('Chatbot: Goodbye!')\n",
        "            break\n",
        "        elif user_input == None:\n",
        "            continue\n",
        "\n",
        "        # Append the new user message\n",
        "        conversation_history.append({'role': 'user', 'content': user_input})\n",
        "        \n",
        "        input_ids = tokenizer.apply_chat_template(\n",
        "            conversation_history,\n",
        "            tokenize=True,\n",
        "            add_generation_prompt=True,\n",
        "            return_tensors=\"pt\"\n",
        "        )\n",
        "\n",
        "        input_ids = input_ids.to(device)\n",
        "        attention_mask = torch.ones_like(input_ids, device=device)\n",
        "\n",
        "        output = model.generate(\n",
        "            input_ids=input_ids,\n",
        "            attention_mask=attention_mask,\n",
        "            max_new_tokens=max_new_tokens,\n",
        "            temperature=temperature,\n",
        "            do_sample=True,\n",
        "            use_cache=True,\n",
        "            pad_token_id=tokenizer.eos_token_id,\n",
        "            return_dict_in_generate=True\n",
        "        )\n",
        "\n",
        "        # Decode only the newly generated tokens\n",
        "        new_tokens = output.sequences[:, input_ids.shape[-1]:]\n",
        "        llm_response = tokenizer.decode(new_tokens[0], skip_special_tokens=True)\n",
        "\n",
        "        # Append the assistant's response to the history\n",
        "        conversation_history.append({'role': 'assistant', 'content': llm_response})\n",
        "        \n",
        "        print(f\"\\nChatbot: {llm_response}\")\n"
      ]
    }
  ],
  "metadata": {
    "kernel_info": {
      "name": "llm_modification_env"
    },
    "kernelspec": {
      "display_name": "llm_modification_env",
      "language": "python",
      "name": "python3"
    },
    "language_info": {
      "codemirror_mode": {
        "name": "ipython",
        "version": 3
      },
      "file_extension": ".py",
      "mimetype": "text/x-python",
      "name": "python",
      "nbconvert_exporter": "python",
      "pygments_lexer": "ipython3",
      "version": "3.10.12"
    },
    "microsoft": {
      "host": {
        "AzureML": {
          "notebookHasBeenCompleted": true
        }
      },
      "ms_spell_check": {
        "ms_spell_check_language": "en"
      }
    },
    "nteract": {
      "version": "nteract-front-end@1.0.0"
    }
  },
  "nbformat": 4,
  "nbformat_minor": 2
}
