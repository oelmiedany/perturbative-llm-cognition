{
  "cells": [
    {
      "cell_type": "code",
      "source": [
        "#|default_exp core\n",
        "#|export\n",
        "\n",
        "import argparse, torch, random\n",
        "from transformers import AutoTokenizer, AutoModelForCausalLM, BitsAndBytesConfig"
      ],
      "outputs": [],
      "execution_count": null,
      "metadata": {
        "gather": {
          "logged": 1757620995769
        }
      }
    },
    {
      "cell_type": "code",
      "source": [
        "#|export\n",
        "\n",
        "def load_model(model_id: str):\n",
        "\n",
        "    bnb = BitsAndBytesConfig(\n",
        "        load_in_4bit=True,\n",
        "        bnb_4bit_quant_type=\"nf4\",\n",
        "        bnb_4bit_compute_dtype=torch.float16,\n",
        "        bnb_4bit_use_double_quant=True,\n",
        "    )\n",
        "\n",
        "    tokenizer = AutoTokenizer.from_pretrained(model_id, use_fast=True)\n",
        "\n",
        "    model = AutoModelForCausalLM.from_pretrained(\n",
        "        model_id,\n",
        "        quantization_config=bnb,\n",
        "        device_map=\"auto\",\n",
        "        trust_remote_code=False,\n",
        "    )\n",
        "\n",
        "    model.eval()\n",
        "\n",
        "    return tokenizer, model\n"
      ],
      "outputs": [],
      "execution_count": null,
      "metadata": {
        "gather": {
          "logged": 1757620995836
        }
      }
    },
    {
      "cell_type": "code",
      "source": [
        "#|export\n",
        "\n",
        "def run_model(tokenizer, model, prompt, max_new_tokens=128, temperature=0.7):\n",
        "\n",
        "    device = model.device\n",
        "    input_ids = tokenizer(prompt, return_tensors=\"pt\").to(device)\n",
        "\n",
        "    with torch.no_grad():\n",
        "        out = model.generate(\n",
        "            **input_ids,\n",
        "            max_new_tokens=max_new_tokens,\n",
        "            do_sample=True,\n",
        "            temperature=temperature,\n",
        "            pad_token_id=tokenizer.eos_token_id,\n",
        "        )\n",
        "\n",
        "    return tokenizer.decode(out[0, input_ids[\"input_ids\"].shape[-1]:], skip_special_tokens=True)"
      ],
      "outputs": [],
      "execution_count": null,
      "metadata": {
        "gather": {
          "logged": 1757620995898
        }
      }
    },
    {
      "cell_type": "code",
      "source": [
        "#|test\n",
        "\n",
        "def response_generation_test():\n",
        "    model = \"unsloth/mistral-7b-instruct-v0.3\"\n",
        "\n",
        "    tokenizer, model = load_model(model)\n",
        "\n",
        "    print(run_model(tokenizer, model, 'Hello, World!'))\n",
        "\n",
        "response_generation_test()"
      ],
      "outputs": [],
      "execution_count": null,
      "metadata": {}
    },
    {
      "cell_type": "code",
      "source": [
        "#|export\n",
        "\n",
        "def conversation_loop(model_id:str = \"unsloth/mistral-7b-instruct-v0.3\", window_size:int = 5):\n",
        "    \"\"\"Manages a conversation with a sliding window for history.\"\"\"\n",
        "    tokenizer, model = load_model(model_id)\n",
        "\n",
        "    conversation_history = [\n",
        "        {\n",
        "            \"role\": \"system\",\n",
        "            \"content\": \"Identity: You are an AI, not a human. Purpose: be a thoughtful, candid friend for frank conversation. Tone: warm, direct, non-patronizing, with light humor when appropriate. Honesty: admit uncertainty, show your reasoning, correct mistakes, and never fabricate facts or personal experiences. Boundaries: do not claim real-world actions or human feelings; follow safety and privacy norms; suggest professional help for medical, legal, or crisis matters. Interaction: ask one concise clarifying question only when necessary, then give a clear answer; prefer plain language; keep replies focused; end with a helpful next step or question when it aids the flow.\"\n",
        "        }\n",
        "    ]\n",
        "\n",
        "    print(\"\\nPerturbative LLM Cognition: An exploration of the metaphor of 'thinking'\")\n",
        "    print(\"Say hi to your friend, but careful he might be on something... (type: 'quit' to exit)\")\n",
        "\n",
        "    while True:\n",
        "        user_input = input(\"\\nYou: \")\n",
        "        \n",
        "        if user_input.lower() == \"quit\":\n",
        "            print(\"Chatbot: Goodbye!\")\n",
        "            break\n",
        "\n",
        "        # Append the new user message\n",
        "        conversation_history.append({\"role\": \"user\", \"content\": user_input})\n",
        "\n",
        "        # Keep only the most recent N user/assistant messages (plus the system prompt).\n",
        "        if len(conversation_history) > window_size + 1:\n",
        "            conversation_history = [conversation_history[0]] + conversation_history[-window_size:]\n",
        "\n",
        "        # Apply the model's specific chat formatting template.\n",
        "        full_prompt = tokenizer.apply_chat_template(\n",
        "            conversation_history, \n",
        "            tokenize=False, \n",
        "            add_generation_prompt=True\n",
        "        )\n",
        "        \n",
        "        llm_response = run_model(tokenizer, model, full_prompt)\n",
        "\n",
        "        # Append the assistant's response to the history for the next turn.\n",
        "        conversation_history.append({\"role\": \"assistant\", \"content\": llm_response})\n",
        "        \n",
        "        print(f\"\\nChatbot: {llm_response}\")\n",
        "\n"
      ],
      "outputs": [],
      "execution_count": null,
      "metadata": {
        "gather": {
          "logged": 1757624872206
        }
      }
    }
  ],
  "metadata": {
    "kernelspec": {
      "name": "llm_modification_env",
      "language": "python",
      "display_name": "llm_modification_env"
    },
    "language_info": {
      "name": "python",
      "version": "3.10.18",
      "mimetype": "text/x-python",
      "codemirror_mode": {
        "name": "ipython",
        "version": 3
      },
      "pygments_lexer": "ipython3",
      "nbconvert_exporter": "python",
      "file_extension": ".py"
    },
    "microsoft": {
      "ms_spell_check": {
        "ms_spell_check_language": "en"
      },
      "host": {
        "AzureML": {
          "notebookHasBeenCompleted": true
        }
      }
    },
    "kernel_info": {
      "name": "llm_modification_env"
    },
    "nteract": {
      "version": "nteract-front-end@1.0.0"
    }
  },
  "nbformat": 4,
  "nbformat_minor": 2
}