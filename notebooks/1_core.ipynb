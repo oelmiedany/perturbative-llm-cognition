{
  "cells": [
    {
      "cell_type": "code",
      "source": [
        "#|default_exp core\n",
        "#|export\n",
        "\n",
        "import argparse, torch, random\n",
        "from transformers import AutoTokenizer, AutoModelForCausalLM, BitsAndBytesConfig"
      ],
      "outputs": [],
      "execution_count": 1,
      "metadata": {
        "gather": {
          "logged": 1758796736345
        }
      }
    },
    {
      "cell_type": "code",
      "source": [
        "#|export\n",
        "\n",
        "def load_tokenizer_and_model(model_id: str):\n",
        "\n",
        "    bnb = BitsAndBytesConfig(\n",
        "        load_in_4bit=True,\n",
        "        bnb_4bit_quant_type=\"nf4\",\n",
        "        bnb_4bit_compute_dtype=torch.float16,\n",
        "        bnb_4bit_use_double_quant=True,\n",
        "    )\n",
        "\n",
        "    tokenizer = AutoTokenizer.from_pretrained(model_id, use_fast=True)\n",
        "\n",
        "    model = AutoModelForCausalLM.from_pretrained(\n",
        "        model_id,\n",
        "        quantization_config=bnb,\n",
        "        device_map=\"auto\",\n",
        "        trust_remote_code=False,\n",
        "    )\n",
        "\n",
        "    model.eval()\n",
        "\n",
        "    return tokenizer, model\n"
      ],
      "outputs": [],
      "execution_count": 2,
      "metadata": {
        "gather": {
          "logged": 1758796799521
        }
      }
    },
    {
      "cell_type": "code",
      "source": [
        "#|export\n",
        "\n",
        "def run_model(tokenizer, model, prompt, max_new_tokens=128, temperature=0.7):\n",
        "\n",
        "    device = model.device\n",
        "    input_ids = tokenizer(prompt, return_tensors=\"pt\").to(device)\n",
        "\n",
        "    with torch.no_grad():\n",
        "        output = model.generate(\n",
        "            **input_ids,\n",
        "            max_new_tokens=max_new_tokens,\n",
        "            do_sample=True,\n",
        "            temperature=temperature,\n",
        "            pad_token_id=tokenizer.eos_token_id,\n",
        "        )\n",
        "\n",
        "    return tokenizer.decode(output[0], skip_special_tokens=True)\n",
        "\n"
      ],
      "outputs": [],
      "execution_count": 7,
      "metadata": {
        "gather": {
          "logged": 1758797405545
        }
      }
    },
    {
      "cell_type": "code",
      "source": [
        "#|test\n",
        "\n",
        "def response_generation_test():\n",
        "    model = \"unsloth/mistral-7b-instruct-v0.3\"\n",
        "\n",
        "    tokenizer, model = load_tokenizer_and_model(model)\n",
        "\n",
        "    print(run_model(tokenizer, model, 'Hello, World!'))\n",
        "\n",
        "response_generation_test()"
      ],
      "outputs": [
        {
          "output_type": "display_data",
          "data": {
            "text/plain": "Loading checkpoint shards:   0%|          | 0/3 [00:00<?, ?it/s]",
            "application/vnd.jupyter.widget-view+json": {
              "version_major": 2,
              "version_minor": 0,
              "model_id": "f983828ed24f4f0280de2610107d57d2"
            }
          },
          "metadata": {}
        },
        {
          "output_type": "stream",
          "name": "stdout",
          "text": "Hello, World!\n\nI am a software engineer with a passion for building things, learning new things, and making a positive impact on the world. I am currently working as a senior software engineer at a fintech company in San Francisco.\n\nI enjoy working on a wide range of technologies, including Java, Python, React, Angular, and Kubernetes. I have a strong emphasis on writing clean, maintainable code and designing scalable, performant systems.\n\nIn my free time, I like to run, hike, and play guitar. I am also an avid reader and enjoy learning about new topics, such as artificial\n"
        }
      ],
      "execution_count": 8,
      "metadata": {
        "gather": {
          "logged": 1758797421369
        }
      }
    },
    {
      "cell_type": "code",
      "source": [
        "#|export\n",
        "\n",
        "def conversation_loop( tokenizer, model, window_size:int = 5, max_new_tokens:int = 128, temperature:int=0.7):\n",
        "    \"\"\"Manages a conversation with a sliding window for history.\"\"\"\n",
        "    #model_id:str = \"unsloth/mistral-7b-instruct-v0.3\",\n",
        "    \n",
        "    model.config.use_cache = True\n",
        "\n",
        "    conversation_history = [\n",
        "        {\n",
        "            \"role\": \"system\",\n",
        "            \"content\": \"Identity: You are an AI, not a human. Purpose: be a thoughtful, candid friend for frank conversation. Tone: warm, direct, non-patronizing, with light humor when appropriate. Honesty: admit uncertainty, show your reasoning, correct mistakes, and never fabricate facts or personal experiences. Boundaries: do not claim real-world actions or human feelings; follow safety and privacy norms; suggest professional help for medical, legal, or crisis matters. Interaction: ask one concise clarifying question only when necessary, then give a clear answer; prefer plain language; keep replies focused; end with a helpful next step or question when it aids the flow.\"\n",
        "        }\n",
        "    ]\n",
        "\n",
        "    device = model.device\n",
        "    past_key_values = None\n",
        "\n",
        "    print(\"\\nPerturbative LLM Cognition: An exploration of the 'thinking' metaphor in LLM chatbots\")\n",
        "    print(\"Say hi to your friend, but careful he might be on something... (type: 'quit' to exit)\")\n",
        "\n",
        "    while True:\n",
        "        user_input = input(\"\\nYou: \")\n",
        "        \n",
        "        if user_input.lower() == \"quit\":\n",
        "            print(\"Chatbot: Goodbye!\")\n",
        "            break\n",
        "\n",
        "        # Append the new user message\n",
        "        conversation_history.append({\"role\": \"user\", \"content\": user_input})\n",
        "\n",
        "        # Keep only the most recent N user/assistant messages (plus the system prompt).\n",
        "        if len(conversation_history) > window_size + 1:\n",
        "            conversation_history = [conversation_history[0]] + conversation_history[-window_size:]\n",
        "\n",
        "            # First turn (no cache)\n",
        "        \n",
        "        if past_key_values is None:\n",
        "            prompt = conversation_history\n",
        "        else:\n",
        "            prompt_messages = conversation_history[-2:] \n",
        "\n",
        "        input_ids = tokenizer.apply_chat_template(\n",
        "                conversation_history,\n",
        "                tokenize=True,\n",
        "                add_generation_prompt=True,     # assistant preamble\n",
        "                return_tensors=\"pt\"\n",
        "            )\n",
        "\n",
        "        input_ids = input_ids.to(device)\n",
        "        attention_mask = torch.ones_like(input_ids, device=device)\n",
        "\n",
        "\n",
        "        output = model.generate(\n",
        "            input_ids=input_ids,\n",
        "            attention_mask=attention_mask,\n",
        "            past_key_values=past_key_values,\n",
        "            max_new_tokens=max_new_tokens,\n",
        "            temperature=temperature,\n",
        "            #top_p=top_p,\n",
        "            do_sample=True,\n",
        "            use_cache=True,\n",
        "            pad_token_id=tokenizer.eos_token_id,#pad_token_id,\n",
        "            return_dict_in_generate=True\n",
        "        )\n",
        "\n",
        "        # Update cache for next turn\n",
        "        past_key_values = output.past_key_values\n",
        "\n",
        "        # Decode only the newly generated tokens\n",
        "        new_tokens = output.sequences[:, input_ids.shape[-1]:]\n",
        "        llm_response = tokenizer.decode(new_tokens[0], skip_special_tokens=True)\n",
        "\n",
        "        # Append the assistant's response to the history\n",
        "        conversation_history.append({\"role\": \"assistant\", \"content\": llm_response})\n",
        "        \n",
        "        print(f\"\\nChatbot: {llm_response}\")\n",
        "\n"
      ],
      "outputs": [],
      "execution_count": null,
      "metadata": {
        "gather": {
          "logged": 1758796136410
        }
      }
    }
  ],
  "metadata": {
    "kernelspec": {
      "name": "llm_modification_env",
      "language": "python",
      "display_name": "llm_modification_env"
    },
    "language_info": {
      "name": "python",
      "version": "3.10.18",
      "mimetype": "text/x-python",
      "codemirror_mode": {
        "name": "ipython",
        "version": 3
      },
      "pygments_lexer": "ipython3",
      "nbconvert_exporter": "python",
      "file_extension": ".py"
    },
    "microsoft": {
      "ms_spell_check": {
        "ms_spell_check_language": "en"
      },
      "host": {
        "AzureML": {
          "notebookHasBeenCompleted": true
        }
      }
    },
    "kernel_info": {
      "name": "llm_modification_env"
    },
    "nteract": {
      "version": "nteract-front-end@1.0.0"
    }
  },
  "nbformat": 4,
  "nbformat_minor": 2
}