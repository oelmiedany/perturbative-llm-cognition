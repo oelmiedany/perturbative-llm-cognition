{
  "cells": [
    {
      "cell_type": "code",
      "source": [
        "#|default_exp core\n",
        "#|export\n",
        "\n",
        "import argparse, torch, random\n",
        "from transformers import AutoTokenizer, AutoModelForCausalLM, BitsAndBytesConfig"
      ],
      "outputs": [],
      "execution_count": 2,
      "metadata": {
        "gather": {
          "logged": 1757620995769
        }
      }
    },
    {
      "cell_type": "code",
      "source": [
        "#|export\n",
        "\n",
        "def load_model(model_id: str):\n",
        "\n",
        "    bnb = BitsAndBytesConfig(\n",
        "        load_in_4bit=True,\n",
        "        bnb_4bit_quant_type=\"nf4\",\n",
        "        bnb_4bit_compute_dtype=torch.float16,\n",
        "        bnb_4bit_use_double_quant=True,\n",
        "    )\n",
        "\n",
        "    tokenizer = AutoTokenizer.from_pretrained(model_id, use_fast=True)\n",
        "\n",
        "    model = AutoModelForCausalLM.from_pretrained(\n",
        "        model_id,\n",
        "        quantization_config=bnb,\n",
        "        device_map=\"auto\",\n",
        "        trust_remote_code=False,\n",
        "    )\n",
        "\n",
        "    model.eval()\n",
        "\n",
        "    return tokenizer, model\n"
      ],
      "outputs": [],
      "execution_count": 3,
      "metadata": {
        "gather": {
          "logged": 1757620995836
        }
      }
    },
    {
      "cell_type": "code",
      "source": [
        "#|export\n",
        "\n",
        "def run_model(tokenizer, model, prompt, max_new_tokens=128, temperature=0.7):\n",
        "\n",
        "    device = model.device\n",
        "    input = tokenizer(prompt, return_tensors=\"pt\").to(device)\n",
        "\n",
        "    with torch.no_grad():\n",
        "        out = model.generate(\n",
        "            **input,\n",
        "            max_new_tokens=max_new_tokens,\n",
        "            do_sample=True,\n",
        "            temperature=temperature,\n",
        "            pad_token_id=tokenizer.eos_token_id,\n",
        "        )\n",
        "    return tokenizer.decode(out[0], skip_special_tokens=True)"
      ],
      "outputs": [],
      "execution_count": 4,
      "metadata": {
        "gather": {
          "logged": 1757620995898
        }
      }
    },
    {
      "cell_type": "code",
      "source": [
        "#|test\n",
        "\n",
        "def response_generation_test():\n",
        "    model = \"unsloth/mistral-7b-instruct-v0.3\"\n",
        "\n",
        "    tokenizer, model = load_model(model)\n",
        "\n",
        "    print(run_model(tokenizer, model, 'Hello, World!'))\n",
        "\n",
        "response_generation_test()"
      ],
      "outputs": [],
      "execution_count": null,
      "metadata": {}
    },
    {
      "cell_type": "code",
      "source": [
        "#|export\n",
        "\n",
        "def conversation_loop(model_id:str = \"unsloth/mistral-7b-instruct-v0.3\", window_size:int = 5):\n",
        "    \"\"\"Manages a conversation with a sliding window for history.\"\"\"\n",
        "    tokenizer, model = load_model(model_id)\n",
        "\n",
        "    conversation_history = [\n",
        "        {\"role\": \"system\", \"content\": \"You are a friend having a conversation.\"}\n",
        "    ]\n",
        "\n",
        "    print(\"Perturbative LLM Cognition: An exploration of the metaphor of 'thinking'\")\n",
        "    print(\"Say hi to your friend, but careful he might be on something... (type: 'quit' to exit)\\n\")\n",
        "\n",
        "    while True:\n",
        "        user_input = input(\"You: \")\n",
        "        \n",
        "        if user_input.lower() == \"quit\":\n",
        "            print(\"Chatbot: Goodbye!\")\n",
        "            break\n",
        "\n",
        "        # Append the new user message\n",
        "        conversation_history.append({\"role\": \"user\", \"content\": user_input})\n",
        "\n",
        "        # Keep only the most recent N user/assistant messages (plus the system prompt).\n",
        "        if len(conversation_history) > window_size + 1:\n",
        "            conversation_history = [conversation_history[0]] + conversation_history[-window_size:]\n",
        "\n",
        "        # Apply the model's specific chat formatting template.\n",
        "        full_prompt = tokenizer.apply_chat_template(\n",
        "            conversation_history, \n",
        "            tokenize=False, \n",
        "            add_generation_prompt=True\n",
        "        )\n",
        "        \n",
        "        response = run_model(tokenizer, model, full_prompt)\n",
        "        \n",
        "        # Extract the new assistant response from the full generated text.\n",
        "        assistant_response = response.replace(full_prompt, \"\").strip()\n",
        "\n",
        "        # Append the assistant's response to the history for the next turn.\n",
        "        conversation_history.append({\"role\": \"assistant\", \"content\": assistant_response})\n",
        "        \n",
        "        print(f\"Chatbot: {assistant_response}\")\n",
        "\n"
      ],
      "outputs": [
        {
          "output_type": "error",
          "ename": "NameError",
          "evalue": "name 'load_model' is not defined",
          "traceback": [
            "\u001b[0;31m---------------------------------------------------------------------------\u001b[0m",
            "\u001b[0;31mNameError\u001b[0m                                 Traceback (most recent call last)",
            "Cell \u001b[0;32mIn[1], line 47\u001b[0m\n\u001b[1;32m     45\u001b[0m \u001b[38;5;66;03m# To start the chatbot\u001b[39;00m\n\u001b[1;32m     46\u001b[0m \u001b[38;5;28;01mif\u001b[39;00m \u001b[38;5;18m__name__\u001b[39m \u001b[38;5;241m==\u001b[39m \u001b[38;5;124m\"\u001b[39m\u001b[38;5;124m__main__\u001b[39m\u001b[38;5;124m\"\u001b[39m:\n\u001b[0;32m---> 47\u001b[0m     \u001b[43mconversation_loop\u001b[49m\u001b[43m(\u001b[49m\u001b[43m)\u001b[49m\n",
            "Cell \u001b[0;32mIn[1], line 5\u001b[0m, in \u001b[0;36mconversation_loop\u001b[0;34m(model_id, window_size)\u001b[0m\n\u001b[1;32m      3\u001b[0m \u001b[38;5;28;01mdef\u001b[39;00m\u001b[38;5;250m \u001b[39m\u001b[38;5;21mconversation_loop\u001b[39m(model_id:\u001b[38;5;28mstr\u001b[39m \u001b[38;5;241m=\u001b[39m \u001b[38;5;124m\"\u001b[39m\u001b[38;5;124munsloth/mistral-7b-instruct-v0.3\u001b[39m\u001b[38;5;124m\"\u001b[39m, window_size:\u001b[38;5;28mint\u001b[39m \u001b[38;5;241m=\u001b[39m \u001b[38;5;241m5\u001b[39m):\n\u001b[1;32m      4\u001b[0m \u001b[38;5;250m    \u001b[39m\u001b[38;5;124;03m\"\"\"Manages a conversation with a sliding window for history.\"\"\"\u001b[39;00m\n\u001b[0;32m----> 5\u001b[0m     tokenizer, model \u001b[38;5;241m=\u001b[39m \u001b[43mload_model\u001b[49m(model_id)\n\u001b[1;32m      7\u001b[0m     conversation_history \u001b[38;5;241m=\u001b[39m [\n\u001b[1;32m      8\u001b[0m         {\u001b[38;5;124m\"\u001b[39m\u001b[38;5;124mrole\u001b[39m\u001b[38;5;124m\"\u001b[39m: \u001b[38;5;124m\"\u001b[39m\u001b[38;5;124msystem\u001b[39m\u001b[38;5;124m\"\u001b[39m, \u001b[38;5;124m\"\u001b[39m\u001b[38;5;124mcontent\u001b[39m\u001b[38;5;124m\"\u001b[39m: \u001b[38;5;124m\"\u001b[39m\u001b[38;5;124mYou are a friend having a conversation.\u001b[39m\u001b[38;5;124m\"\u001b[39m}\n\u001b[1;32m      9\u001b[0m     ]\n\u001b[1;32m     11\u001b[0m     \u001b[38;5;28mprint\u001b[39m(\u001b[38;5;124m\"\u001b[39m\u001b[38;5;124mPerturbative LLM Cognition: An exploration of the metaphor of \u001b[39m\u001b[38;5;124m'\u001b[39m\u001b[38;5;124mthinking\u001b[39m\u001b[38;5;124m'\u001b[39m\u001b[38;5;124m\"\u001b[39m)\n",
            "\u001b[0;31mNameError\u001b[0m: name 'load_model' is not defined"
          ]
        }
      ],
      "execution_count": 1,
      "metadata": {
        "gather": {
          "logged": 1757624872206
        }
      }
    }
  ],
  "metadata": {
    "kernelspec": {
      "name": "llm_modification_env",
      "language": "python",
      "display_name": "llm_modification_env"
    },
    "language_info": {
      "name": "python",
      "version": "3.10.18",
      "mimetype": "text/x-python",
      "codemirror_mode": {
        "name": "ipython",
        "version": 3
      },
      "pygments_lexer": "ipython3",
      "nbconvert_exporter": "python",
      "file_extension": ".py"
    },
    "microsoft": {
      "ms_spell_check": {
        "ms_spell_check_language": "en"
      },
      "host": {
        "AzureML": {
          "notebookHasBeenCompleted": true
        }
      }
    },
    "kernel_info": {
      "name": "llm_modification_env"
    },
    "nteract": {
      "version": "nteract-front-end@1.0.0"
    }
  },
  "nbformat": 4,
  "nbformat_minor": 2
}