{
  "cells": [
    {
      "cell_type": "code",
      "source": [
        "print('Hello World')"
      ],
      "outputs": [
        {
          "output_type": "stream",
          "name": "stdout",
          "text": "Hello World\n"
        }
      ],
      "execution_count": 1,
      "metadata": {
        "gather": {
          "logged": 1757620991463
        }
      }
    },
    {
      "cell_type": "code",
      "source": [
        "import argparse, torch, random\n",
        "from transformers import AutoTokenizer, AutoModelForCausalLM, BitsAndBytesConfig"
      ],
      "outputs": [],
      "execution_count": 2,
      "metadata": {
        "gather": {
          "logged": 1757620995769
        }
      }
    },
    {
      "cell_type": "code",
      "source": [
        "\n",
        "def load_model(model_id: str):\n",
        "    bnb = BitsAndBytesConfig(\n",
        "        load_in_4bit=True,\n",
        "        bnb_4bit_quant_type=\"nf4\",\n",
        "        bnb_4bit_compute_dtype=torch.float16,\n",
        "        bnb_4bit_use_double_quant=True,\n",
        "    )\n",
        "    tok = AutoTokenizer.from_pretrained(model_id, use_fast=True)\n",
        "    model = AutoModelForCausalLM.from_pretrained(\n",
        "        model_id,\n",
        "        quantization_config=bnb,\n",
        "        device_map=\"auto\",\n",
        "        trust_remote_code=False,\n",
        "    )\n",
        "    model.eval()\n",
        "    return tok, model"
      ],
      "outputs": [],
      "execution_count": 3,
      "metadata": {
        "gather": {
          "logged": 1757620995836
        }
      }
    },
    {
      "cell_type": "code",
      "source": [
        "def generate(tok, model, prompt, max_new_tokens=128, temperature=0.7):\n",
        "    dev = model.device\n",
        "    inputs = tok(prompt, return_tensors=\"pt\").to(dev)\n",
        "    with torch.no_grad():\n",
        "        out = model.generate(\n",
        "            **inputs,\n",
        "            max_new_tokens=max_new_tokens,\n",
        "            do_sample=True,\n",
        "            temperature=temperature,\n",
        "            pad_token_id=tok.eos_token_id,\n",
        "        )\n",
        "    return tok.decode(out[0], skip_special_tokens=True)"
      ],
      "outputs": [],
      "execution_count": 4,
      "metadata": {
        "gather": {
          "logged": 1757620995898
        }
      }
    },
    {
      "cell_type": "code",
      "source": [
        "def converse(prompt):\n",
        "    model = \"unsloth/mistral-7b-instruct-v0.3\"\n",
        "\n",
        "    tok, model = load_model(model)\n",
        "    print(generate(tok, model, prompt))\n",
        "\n",
        "converse('Hello, is anyone there?')"
      ],
      "outputs": [
        {
          "output_type": "display_data",
          "data": {
            "text/plain": "Loading checkpoint shards:   0%|          | 0/3 [00:00<?, ?it/s]",
            "application/vnd.jupyter.widget-view+json": {
              "version_major": 2,
              "version_minor": 0,
              "model_id": "cd8abd0a28924d59841fa9fb053b047e"
            }
          },
          "metadata": {}
        },
        {
          "output_type": "stream",
          "name": "stdout",
          "text": "Hello, is anyone there?\n\nDoes anyone read this stuff?\n\nI'm thinking of writing a little article about the history of this forum. I have to admit, I've never posted here before, although I have read the forum before. But to be honest, I've never had much of a reason to, as other forums seemed to cover the same topics (i.e. the history of the town and the surrounding area). However, I noticed that this forum seems to be pretty inactive these days. I'm assuming this is because of the rise of social media and the internet in general. I'm not here\n"
        }
      ],
      "execution_count": 6,
      "metadata": {
        "gather": {
          "logged": 1757621301473
        }
      }
    }
  ],
  "metadata": {
    "kernelspec": {
      "name": "llm_modification_env",
      "language": "python",
      "display_name": "llm_modification_env"
    },
    "language_info": {
      "name": "python",
      "version": "3.10.18",
      "mimetype": "text/x-python",
      "codemirror_mode": {
        "name": "ipython",
        "version": 3
      },
      "pygments_lexer": "ipython3",
      "nbconvert_exporter": "python",
      "file_extension": ".py"
    },
    "microsoft": {
      "ms_spell_check": {
        "ms_spell_check_language": "en"
      },
      "host": {
        "AzureML": {
          "notebookHasBeenCompleted": true
        }
      }
    },
    "kernel_info": {
      "name": "llm_modification_env"
    },
    "nteract": {
      "version": "nteract-front-end@1.0.0"
    }
  },
  "nbformat": 4,
  "nbformat_minor": 2
}